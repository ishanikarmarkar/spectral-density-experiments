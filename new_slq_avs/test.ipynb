{
 "cells": [
  {
   "cell_type": "code",
   "execution_count": 1,
   "metadata": {},
   "outputs": [
    {
     "name": "stdout",
     "output_type": "stream",
     "text": [
      "[{'l': 3, 'w1': np.float64(0.1051771316182292)}, {'l': 5, 'w1': np.float64(0.03545115364652319)}, {'l': 7, 'w1': np.float64(0.010062277958235435)}]\n"
     ]
    }
   ],
   "source": [
    "import pickle\n",
    "\n",
    "# Read the file\n",
    "with open('data.pickle', 'rb') as f:\n",
    "    l_w1_lst = pickle.load(f)\n",
    "\n",
    "print(l_w1_lst)"
   ]
  }
 ],
 "metadata": {
  "kernelspec": {
   "display_name": "graph_expt2",
   "language": "python",
   "name": "python3"
  },
  "language_info": {
   "codemirror_mode": {
    "name": "ipython",
    "version": 3
   },
   "file_extension": ".py",
   "mimetype": "text/x-python",
   "name": "python",
   "nbconvert_exporter": "python",
   "pygments_lexer": "ipython3",
   "version": "3.12.4"
  }
 },
 "nbformat": 4,
 "nbformat_minor": 2
}
